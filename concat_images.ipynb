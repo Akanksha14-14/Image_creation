{
 "cells": [
  {
   "cell_type": "code",
   "execution_count": 24,
   "id": "e4779436",
   "metadata": {},
   "outputs": [],
   "source": [
    "#task 35.3\n",
    "import cv2\n",
    "import numpy as np"
   ]
  },
  {
   "cell_type": "code",
   "execution_count": 25,
   "id": "82d09358",
   "metadata": {},
   "outputs": [],
   "source": [
    "#1st Image\n",
    "ss=cv2.imread('ss.jpeg')\n",
    "cv2.imshow('shinshin',ss)\n",
    "cv2.waitKey()\n",
    "cv2.destroyAllWindows()"
   ]
  },
  {
   "cell_type": "code",
   "execution_count": 26,
   "id": "cf9ef067",
   "metadata": {},
   "outputs": [],
   "source": [
    "#2nd image\n",
    "jerry=cv2.imread('jerry.jpg')\n",
    "cv2.imshow('jerry',jerry)\n",
    "cv2.waitKey()\n",
    "cv2.destroyAllWindows()"
   ]
  },
  {
   "cell_type": "code",
   "execution_count": 27,
   "id": "2003a3a7",
   "metadata": {},
   "outputs": [],
   "source": [
    "#resizing the images\n",
    "ss= cv2.resize(ss, (300,400))\n",
    "jerry = cv2.resize(jerry,(300,400))\n",
    "\n",
    "#concat the images\n",
    "pic = cv2.hconcat([jerry, ss])"
   ]
  },
  {
   "cell_type": "code",
   "execution_count": 28,
   "id": "7d0795aa",
   "metadata": {},
   "outputs": [],
   "source": [
    "#Displaying the final collage\n",
    "cv2.imshow('Final',pic)\n",
    "cv2.waitKey()\n",
    "cv2.destroyAllWindows()"
   ]
  },
  {
   "cell_type": "code",
   "execution_count": null,
   "id": "b452a9b4",
   "metadata": {},
   "outputs": [],
   "source": []
  }
 ],
 "metadata": {
  "kernelspec": {
   "display_name": "Python 3",
   "language": "python",
   "name": "python3"
  },
  "language_info": {
   "codemirror_mode": {
    "name": "ipython",
    "version": 3
   },
   "file_extension": ".py",
   "mimetype": "text/x-python",
   "name": "python",
   "nbconvert_exporter": "python",
   "pygments_lexer": "ipython3",
   "version": "3.8.8"
  }
 },
 "nbformat": 4,
 "nbformat_minor": 5
}
