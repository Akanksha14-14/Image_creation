{
 "cells": [
  {
   "cell_type": "code",
   "execution_count": 67,
   "id": "13ec7020",
   "metadata": {},
   "outputs": [],
   "source": [
    "#task 35.2\n",
    "import cv2\n",
    "import numpy as np"
   ]
  },
  {
   "cell_type": "code",
   "execution_count": 68,
   "id": "8d41c427",
   "metadata": {},
   "outputs": [],
   "source": [
    "tj = cv2.imread(\"tom.jpg\")\n",
    "micky = cv2.imread(\"mouse.png\")"
   ]
  },
  {
   "cell_type": "code",
   "execution_count": 69,
   "id": "2f6a3334",
   "metadata": {},
   "outputs": [],
   "source": [
    "cv2.imshow(\"img1\",tj)\n",
    "cv2.waitKey()\n",
    "cv2.destroyAllWindows()"
   ]
  },
  {
   "cell_type": "code",
   "execution_count": 70,
   "id": "b11074c6",
   "metadata": {},
   "outputs": [],
   "source": [
    "cv2.imshow(\"img2\",micky)\n",
    "cv2.waitKey()\n",
    "cv2.destroyAllWindows()"
   ]
  },
  {
   "cell_type": "code",
   "execution_count": 71,
   "id": "410743e7",
   "metadata": {},
   "outputs": [],
   "source": [
    "#swapping\n",
    "micky_crop = micky[0:290,0:290]\n",
    "tj[350:640,250:540] = micky_crop\n",
    "cv2.imshow(\"new2\",tj)\n",
    "cv2.waitKey()\n",
    "cv2.destroyAllWindows()"
   ]
  },
  {
   "cell_type": "code",
   "execution_count": 72,
   "id": "9f40d4af",
   "metadata": {},
   "outputs": [],
   "source": [
    "#swapping\n",
    "tj2 = cv2.imread(\"tom.jpg\")\n",
    "small_tom= cv2.resize(tj2,(200,100))\n",
    "image_crop = small_tom[0:100,0:200]\n",
    "micky[0:100,0:200] = image_crop\n",
    "cv2.imshow(\"new\",micky)\n",
    "cv2.waitKey()\n",
    "cv2.destroyAllWindows()"
   ]
  },
  {
   "cell_type": "code",
   "execution_count": 59,
   "id": "cf59f4a0",
   "metadata": {},
   "outputs": [],
   "source": []
  },
  {
   "cell_type": "code",
   "execution_count": 60,
   "id": "90dc9204",
   "metadata": {},
   "outputs": [],
   "source": []
  },
  {
   "cell_type": "code",
   "execution_count": 65,
   "id": "b5f9fecb",
   "metadata": {},
   "outputs": [],
   "source": []
  },
  {
   "cell_type": "code",
   "execution_count": 44,
   "id": "6da04980",
   "metadata": {},
   "outputs": [],
   "source": []
  },
  {
   "cell_type": "code",
   "execution_count": null,
   "id": "1d9b4b67",
   "metadata": {},
   "outputs": [],
   "source": []
  }
 ],
 "metadata": {
  "kernelspec": {
   "display_name": "Python 3",
   "language": "python",
   "name": "python3"
  },
  "language_info": {
   "codemirror_mode": {
    "name": "ipython",
    "version": 3
   },
   "file_extension": ".py",
   "mimetype": "text/x-python",
   "name": "python",
   "nbconvert_exporter": "python",
   "pygments_lexer": "ipython3",
   "version": "3.8.8"
  }
 },
 "nbformat": 4,
 "nbformat_minor": 5
}
